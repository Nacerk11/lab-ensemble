{
 "cells": [
  {
   "cell_type": "code",
   "execution_count": 1,
   "metadata": {},
   "outputs": [
    {
     "name": "stdout",
     "output_type": "stream",
     "text": [
      "Original data shape: (8693, 14)\n",
      "Data shape after dropping missing values: (6606, 14)\n",
      "BaggingClassifier Accuracy: 0.8071104387291982\n",
      "RandomForestClassifier Accuracy: 0.8063540090771558\n",
      "GradientBoostingClassifier Accuracy: 0.8071104387291982\n",
      "AdaBoostClassifier Accuracy: 0.791981845688351\n",
      "\n",
      "Summary of Ensemble Model Accuracies:\n",
      "Bagging:          0.8071104387291982\n",
      "Random Forest:    0.8063540090771558\n",
      "Gradient Boosting: 0.8071104387291982\n",
      "Adaptive Boosting: 0.791981845688351\n"
     ]
    },
    {
     "name": "stderr",
     "output_type": "stream",
     "text": [
      "/opt/anaconda3/lib/python3.12/site-packages/sklearn/ensemble/_weight_boosting.py:527: FutureWarning: The SAMME.R algorithm (the default) is deprecated and will be removed in 1.6. Use the SAMME algorithm to circumvent this warning.\n",
      "  warnings.warn(\n"
     ]
    }
   ],
   "source": [
    "# Libraries\n",
    "import pandas as pd\n",
    "import numpy as np\n",
    "from sklearn.model_selection import train_test_split\n",
    "from sklearn.preprocessing import StandardScaler\n",
    "from sklearn.ensemble import BaggingClassifier, RandomForestClassifier, GradientBoostingClassifier, AdaBoostClassifier\n",
    "from sklearn.metrics import accuracy_score\n",
    "\n",
    "# 1. Load the data\n",
    "url = \"https://raw.githubusercontent.com/data-bootcamp-v4/data/main/spaceship_titanic.csv\"\n",
    "spaceship = pd.read_csv(url)\n",
    "print(\"Original data shape:\", spaceship.shape)\n",
    "\n",
    "# 2. Data Cleaning\n",
    "#    Drop rows with any missing values\n",
    "spaceship = spaceship.dropna()\n",
    "print(\"Data shape after dropping missing values:\", spaceship.shape)\n",
    "\n",
    "# 3. Feature Engineering\n",
    "#    Transform 'Cabin': extract deck letter (first part before '/')\n",
    "spaceship['Cabin'] = spaceship['Cabin'].apply(lambda x: x.split('/')[0] if isinstance(x, str) else x)\n",
    "\n",
    "#    Drop columns not useful for prediction: 'PassengerId' and 'Name'\n",
    "spaceship = spaceship.drop(columns=['PassengerId', 'Name'])\n",
    "\n",
    "#    Separate the target variable from features\n",
    "y = spaceship['Transported']\n",
    "X = spaceship.drop(columns=['Transported'])\n",
    "\n",
    "#    For non-numerical columns, create dummies\n",
    "X = pd.get_dummies(X, drop_first=True)\n",
    "\n",
    "# 4. Feature Scaling\n",
    "scaler = StandardScaler()\n",
    "X_scaled = scaler.fit_transform(X)\n",
    "\n",
    "# 5. Train Test Split (80% training, 20% testing)\n",
    "X_train, X_test, y_train, y_test = train_test_split(X_scaled, y, test_size=0.2, random_state=42)\n",
    "\n",
    "# 6. Model Selection - Ensemble Methods\n",
    "\n",
    "# 6.1. Bagging and Pasting using BaggingClassifier\n",
    "bagging = BaggingClassifier(n_estimators=50, random_state=42)\n",
    "bagging.fit(X_train, y_train)\n",
    "y_pred_bag = bagging.predict(X_test)\n",
    "accuracy_bag = accuracy_score(y_test, y_pred_bag)\n",
    "print(\"BaggingClassifier Accuracy:\", accuracy_bag)\n",
    "\n",
    "# 6.2. Random Forests using RandomForestClassifier\n",
    "rf = RandomForestClassifier(n_estimators=100, random_state=42)\n",
    "rf.fit(X_train, y_train)\n",
    "y_pred_rf = rf.predict(X_test)\n",
    "accuracy_rf = accuracy_score(y_test, y_pred_rf)\n",
    "print(\"RandomForestClassifier Accuracy:\", accuracy_rf)\n",
    "\n",
    "# 6.3. Gradient Boosting using GradientBoostingClassifier\n",
    "gb = GradientBoostingClassifier(random_state=42)\n",
    "gb.fit(X_train, y_train)\n",
    "y_pred_gb = gb.predict(X_test)\n",
    "accuracy_gb = accuracy_score(y_test, y_pred_gb)\n",
    "print(\"GradientBoostingClassifier Accuracy:\", accuracy_gb)\n",
    "\n",
    "# 6.4. Adaptive Boosting using AdaBoostClassifier\n",
    "ada = AdaBoostClassifier(random_state=42)\n",
    "ada.fit(X_train, y_train)\n",
    "y_pred_ada = ada.predict(X_test)\n",
    "accuracy_ada = accuracy_score(y_test, y_pred_ada)\n",
    "print(\"AdaBoostClassifier Accuracy:\", accuracy_ada)\n",
    "\n",
    "# 7. Summary of results\n",
    "print(\"\\nSummary of Ensemble Model Accuracies:\")\n",
    "print(\"Bagging:         \", accuracy_bag)\n",
    "print(\"Random Forest:   \", accuracy_rf)\n",
    "print(\"Gradient Boosting:\", accuracy_gb)\n",
    "print(\"Adaptive Boosting:\", accuracy_ada)\n"
   ]
  },
  {
   "cell_type": "code",
   "execution_count": null,
   "metadata": {},
   "outputs": [],
   "source": []
  }
 ],
 "metadata": {
  "kernelspec": {
   "display_name": "base",
   "language": "python",
   "name": "python3"
  },
  "language_info": {
   "codemirror_mode": {
    "name": "ipython",
    "version": 3
   },
   "file_extension": ".py",
   "mimetype": "text/x-python",
   "name": "python",
   "nbconvert_exporter": "python",
   "pygments_lexer": "ipython3",
   "version": "3.12.7"
  }
 },
 "nbformat": 4,
 "nbformat_minor": 2
}
